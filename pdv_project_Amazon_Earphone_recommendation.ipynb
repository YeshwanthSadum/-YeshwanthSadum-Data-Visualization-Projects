{
  "nbformat": 4,
  "nbformat_minor": 0,
  "metadata": {
    "colab": {
      "name": "pdv project - Amazon - Earphone recommendation.ipynb",
      "provenance": [],
      "collapsed_sections": [],
      "authorship_tag": "ABX9TyOWB+S24cxsushDhyQj1oZ3",
      "include_colab_link": true
    },
    "kernelspec": {
      "name": "python3",
      "display_name": "Python 3"
    },
    "language_info": {
      "name": "python"
    }
  },
  "cells": [
    {
      "cell_type": "markdown",
      "metadata": {
        "id": "view-in-github",
        "colab_type": "text"
      },
      "source": [
        "<a href=\"https://colab.research.google.com/github/YeshwanthSadum/YeshwanthSadum-Data-Visualization-Projects/blob/main/pdv_project_Amazon_Earphone_recommendation.ipynb\" target=\"_parent\"><img src=\"https://colab.research.google.com/assets/colab-badge.svg\" alt=\"Open In Colab\"/></a>"
      ]
    },
    {
      "cell_type": "code",
      "execution_count": 1,
      "metadata": {
        "colab": {
          "base_uri": "https://localhost:8080/"
        },
        "id": "1XNUpM9rOl7p",
        "outputId": "4d6a866b-9e5f-4f7e-cc3a-7405fbead566"
      },
      "outputs": [
        {
          "output_type": "stream",
          "name": "stdout",
          "text": [
            "Collecting fake_useragent\n",
            "  Downloading fake-useragent-0.1.11.tar.gz (13 kB)\n",
            "Building wheels for collected packages: fake-useragent\n",
            "  Building wheel for fake-useragent (setup.py) ... \u001b[?25l\u001b[?25hdone\n",
            "  Created wheel for fake-useragent: filename=fake_useragent-0.1.11-py3-none-any.whl size=13502 sha256=cae1d6919650f4f10987fcd41ef9bc9398f3d1fec2d459101f3bc5b2b26aeeea\n",
            "  Stored in directory: /root/.cache/pip/wheels/ed/f7/62/50ab6c9a0b5567267ab76a9daa9d06315704209b2c5d032031\n",
            "Successfully built fake-useragent\n",
            "Installing collected packages: fake-useragent\n",
            "Successfully installed fake-useragent-0.1.11\n"
          ]
        }
      ],
      "source": [
        "pip install fake_useragent"
      ]
    },
    {
      "cell_type": "code",
      "source": [
        "import requests\n",
        "from bs4 import BeautifulSoup\n",
        "from fake_useragent import UserAgent\n",
        "\n",
        "ua = UserAgent()\n",
        "header = {'user-agent':ua.chrome}\n",
        "google_page = requests.get('https://www.amazon.in/s?k=headphones&crid=1KNIU0KIZ8UF4&sprefix=headphones%2Caps%2C253&ref=nb_sb_noss_1',headers=header)\n",
        "#print(google_page.content)\n",
        "\n",
        "soup = BeautifulSoup(google_page.content,'lxml') # html.parser\n",
        "\n",
        "#print(soup.prettify())"
      ],
      "metadata": {
        "id": "4FDh7RsDOqjF"
      },
      "execution_count": 7,
      "outputs": []
    },
    {
      "cell_type": "code",
      "source": [
        "import pandas as pd\n",
        "import numpy as np"
      ],
      "metadata": {
        "id": "xp7OGZ4XQz_5"
      },
      "execution_count": 9,
      "outputs": []
    },
    {
      "cell_type": "code",
      "source": [
        "soup.find('a',class_=\"a-link-normal s-underline-text s-underline-link-text s-link-style a-text-normal\").text"
      ],
      "metadata": {
        "colab": {
          "base_uri": "https://localhost:8080/",
          "height": 35
        },
        "id": "R3se5SNUJ91B",
        "outputId": "cfb59be3-b91b-47bf-9c70-a275370ef227"
      },
      "execution_count": 19,
      "outputs": [
        {
          "output_type": "execute_result",
          "data": {
            "application/vnd.google.colaboratory.intrinsic+json": {
              "type": "string"
            },
            "text/plain": [
              "'boAt Rockerz 550 Bluetooth Wireless Over Ear Headphone with Mic (Black) '"
            ]
          },
          "metadata": {},
          "execution_count": 19
        }
      ]
    },
    {
      "cell_type": "code",
      "source": [
        "def soup_df(soup):\n",
        "  df = pd.DataFrame(np.zeros(1000))\n",
        "  df['Product name'] = soup.find('a',class_=\"a-link-normal s-underline-text s-underline-link-text s-link-style a-text-normal\").text\n",
        "  df['mrp'] = soup.find('span',class_=\"a-price a-text-price\").span.text\n",
        "  df['rating'] = (soup.find('div',class_=\"a-row a-size-small\").text).split()[0]\n",
        "  df['reviews'] = (soup.find('div',class_=\"a-row a-size-small\").text).split()[5]\n",
        "  df['offer price'] = soup.find('span',class_=\"a-price-whole\").text\n",
        "  i = 0\n",
        "  for data in soup.find_all('a',class_=\"a-link-normal s-underline-text s-underline-link-text s-link-style a-text-normal\"):\n",
        "    df['Product name'].iloc[i] = data.text\n",
        "    i=i+1\n",
        "    \n",
        "  i = 0\n",
        "  for mrp in soup.find_all('span',class_=\"a-price a-text-price\"):\n",
        "    df['mrp'].iloc[i] = float(mrp.span.text[1:].replace(',',''))\n",
        "    i=i+1\n",
        "    \n",
        "  i = 0\n",
        "  for rating in soup.find_all('div',class_=\"a-row a-size-small\"):\n",
        "    df['rating'].iloc[i] = float((rating.text).split()[0])\n",
        "    i=i+1\n",
        "    \n",
        "  i = 0\n",
        "  for reviews in soup.find_all('div',class_=\"a-row a-size-small\"):\n",
        "    df['reviews'].iloc[i] = (reviews.text).split()[5].replace(',','')\n",
        "    i=i+1\n",
        "    \n",
        "  i = 0\n",
        "  for offer in soup.find_all('span',class_=\"a-price-whole\"):\n",
        "    df['offer price'].iloc[i] = float(offer.text.replace(',',''))\n",
        "    i=i+1\n",
        "  \n",
        "  df = df.drop(0, axis = 1)\n",
        "  df = df.drop_duplicates(['Product name'])\n",
        "  return df"
      ],
      "metadata": {
        "id": "PfCC1euoQ8yj"
      },
      "execution_count": 20,
      "outputs": []
    },
    {
      "cell_type": "code",
      "source": [
        "df = soup_df(soup)"
      ],
      "metadata": {
        "colab": {
          "base_uri": "https://localhost:8080/"
        },
        "id": "hnlQQYFnRC6i",
        "outputId": "06b33022-22fd-4c64-f9f8-180f2fe7c0c2"
      },
      "execution_count": 43,
      "outputs": [
        {
          "output_type": "stream",
          "name": "stderr",
          "text": [
            "/usr/local/lib/python3.7/dist-packages/pandas/core/indexing.py:1732: SettingWithCopyWarning: \n",
            "A value is trying to be set on a copy of a slice from a DataFrame\n",
            "\n",
            "See the caveats in the documentation: https://pandas.pydata.org/pandas-docs/stable/user_guide/indexing.html#returning-a-view-versus-a-copy\n",
            "  self._setitem_single_block(indexer, value, name)\n"
          ]
        }
      ]
    },
    {
      "cell_type": "code",
      "source": [
        "df1.head()"
      ],
      "metadata": {
        "colab": {
          "base_uri": "https://localhost:8080/",
          "height": 206
        },
        "id": "QZ_MDaucRGTI",
        "outputId": "06cc4998-6c06-40a2-fd0f-be3740ddf3ff"
      },
      "execution_count": 44,
      "outputs": [
        {
          "output_type": "execute_result",
          "data": {
            "text/html": [
              "\n",
              "  <div id=\"df-f4d412d6-4ed0-4dc2-84e9-7fb11ada8297\">\n",
              "    <div class=\"colab-df-container\">\n",
              "      <div>\n",
              "<style scoped>\n",
              "    .dataframe tbody tr th:only-of-type {\n",
              "        vertical-align: middle;\n",
              "    }\n",
              "\n",
              "    .dataframe tbody tr th {\n",
              "        vertical-align: top;\n",
              "    }\n",
              "\n",
              "    .dataframe thead th {\n",
              "        text-align: right;\n",
              "    }\n",
              "</style>\n",
              "<table border=\"1\" class=\"dataframe\">\n",
              "  <thead>\n",
              "    <tr style=\"text-align: right;\">\n",
              "      <th></th>\n",
              "      <th>Product name</th>\n",
              "      <th>mrp</th>\n",
              "      <th>rating</th>\n",
              "      <th>reviews</th>\n",
              "      <th>offer price</th>\n",
              "    </tr>\n",
              "  </thead>\n",
              "  <tbody>\n",
              "    <tr>\n",
              "      <th>0</th>\n",
              "      <td>boAt Rockerz 550 Bluetooth Wireless Over Ear H...</td>\n",
              "      <td>4999.0</td>\n",
              "      <td>4.1</td>\n",
              "      <td>36277</td>\n",
              "      <td>1899.0</td>\n",
              "    </tr>\n",
              "    <tr>\n",
              "      <th>1</th>\n",
              "      <td>boAt Rockerz 450 Pro Bluetooth Wireless On Ear...</td>\n",
              "      <td>3990.0</td>\n",
              "      <td>4.1</td>\n",
              "      <td>69124</td>\n",
              "      <td>1799.0</td>\n",
              "    </tr>\n",
              "    <tr>\n",
              "      <th>2</th>\n",
              "      <td>Boult Audio Bass Buds Q2 Wired Over Ear Headph...</td>\n",
              "      <td>2490.0</td>\n",
              "      <td>3.9</td>\n",
              "      <td>9902</td>\n",
              "      <td>599.0</td>\n",
              "    </tr>\n",
              "    <tr>\n",
              "      <th>3</th>\n",
              "      <td>ENVOUS New Wireless Bluetooth Headset Headphon...</td>\n",
              "      <td>999.0</td>\n",
              "      <td>4.0</td>\n",
              "      <td>576</td>\n",
              "      <td>299.0</td>\n",
              "    </tr>\n",
              "    <tr>\n",
              "      <th>5</th>\n",
              "      <td>pTron Studio Over Ear Bluetooth 5.0 Wireless H...</td>\n",
              "      <td>1999.0</td>\n",
              "      <td>3.8</td>\n",
              "      <td>13580</td>\n",
              "      <td>799.0</td>\n",
              "    </tr>\n",
              "  </tbody>\n",
              "</table>\n",
              "</div>\n",
              "      <button class=\"colab-df-convert\" onclick=\"convertToInteractive('df-f4d412d6-4ed0-4dc2-84e9-7fb11ada8297')\"\n",
              "              title=\"Convert this dataframe to an interactive table.\"\n",
              "              style=\"display:none;\">\n",
              "        \n",
              "  <svg xmlns=\"http://www.w3.org/2000/svg\" height=\"24px\"viewBox=\"0 0 24 24\"\n",
              "       width=\"24px\">\n",
              "    <path d=\"M0 0h24v24H0V0z\" fill=\"none\"/>\n",
              "    <path d=\"M18.56 5.44l.94 2.06.94-2.06 2.06-.94-2.06-.94-.94-2.06-.94 2.06-2.06.94zm-11 1L8.5 8.5l.94-2.06 2.06-.94-2.06-.94L8.5 2.5l-.94 2.06-2.06.94zm10 10l.94 2.06.94-2.06 2.06-.94-2.06-.94-.94-2.06-.94 2.06-2.06.94z\"/><path d=\"M17.41 7.96l-1.37-1.37c-.4-.4-.92-.59-1.43-.59-.52 0-1.04.2-1.43.59L10.3 9.45l-7.72 7.72c-.78.78-.78 2.05 0 2.83L4 21.41c.39.39.9.59 1.41.59.51 0 1.02-.2 1.41-.59l7.78-7.78 2.81-2.81c.8-.78.8-2.07 0-2.86zM5.41 20L4 18.59l7.72-7.72 1.47 1.35L5.41 20z\"/>\n",
              "  </svg>\n",
              "      </button>\n",
              "      \n",
              "  <style>\n",
              "    .colab-df-container {\n",
              "      display:flex;\n",
              "      flex-wrap:wrap;\n",
              "      gap: 12px;\n",
              "    }\n",
              "\n",
              "    .colab-df-convert {\n",
              "      background-color: #E8F0FE;\n",
              "      border: none;\n",
              "      border-radius: 50%;\n",
              "      cursor: pointer;\n",
              "      display: none;\n",
              "      fill: #1967D2;\n",
              "      height: 32px;\n",
              "      padding: 0 0 0 0;\n",
              "      width: 32px;\n",
              "    }\n",
              "\n",
              "    .colab-df-convert:hover {\n",
              "      background-color: #E2EBFA;\n",
              "      box-shadow: 0px 1px 2px rgba(60, 64, 67, 0.3), 0px 1px 3px 1px rgba(60, 64, 67, 0.15);\n",
              "      fill: #174EA6;\n",
              "    }\n",
              "\n",
              "    [theme=dark] .colab-df-convert {\n",
              "      background-color: #3B4455;\n",
              "      fill: #D2E3FC;\n",
              "    }\n",
              "\n",
              "    [theme=dark] .colab-df-convert:hover {\n",
              "      background-color: #434B5C;\n",
              "      box-shadow: 0px 1px 3px 1px rgba(0, 0, 0, 0.15);\n",
              "      filter: drop-shadow(0px 1px 2px rgba(0, 0, 0, 0.3));\n",
              "      fill: #FFFFFF;\n",
              "    }\n",
              "  </style>\n",
              "\n",
              "      <script>\n",
              "        const buttonEl =\n",
              "          document.querySelector('#df-f4d412d6-4ed0-4dc2-84e9-7fb11ada8297 button.colab-df-convert');\n",
              "        buttonEl.style.display =\n",
              "          google.colab.kernel.accessAllowed ? 'block' : 'none';\n",
              "\n",
              "        async function convertToInteractive(key) {\n",
              "          const element = document.querySelector('#df-f4d412d6-4ed0-4dc2-84e9-7fb11ada8297');\n",
              "          const dataTable =\n",
              "            await google.colab.kernel.invokeFunction('convertToInteractive',\n",
              "                                                     [key], {});\n",
              "          if (!dataTable) return;\n",
              "\n",
              "          const docLinkHtml = 'Like what you see? Visit the ' +\n",
              "            '<a target=\"_blank\" href=https://colab.research.google.com/notebooks/data_table.ipynb>data table notebook</a>'\n",
              "            + ' to learn more about interactive tables.';\n",
              "          element.innerHTML = '';\n",
              "          dataTable['output_type'] = 'display_data';\n",
              "          await google.colab.output.renderOutput(dataTable, element);\n",
              "          const docLink = document.createElement('div');\n",
              "          docLink.innerHTML = docLinkHtml;\n",
              "          element.appendChild(docLink);\n",
              "        }\n",
              "      </script>\n",
              "    </div>\n",
              "  </div>\n",
              "  "
            ],
            "text/plain": [
              "                                        Product name  ... offer price\n",
              "0  boAt Rockerz 550 Bluetooth Wireless Over Ear H...  ...      1899.0\n",
              "1  boAt Rockerz 450 Pro Bluetooth Wireless On Ear...  ...      1799.0\n",
              "2  Boult Audio Bass Buds Q2 Wired Over Ear Headph...  ...       599.0\n",
              "3  ENVOUS New Wireless Bluetooth Headset Headphon...  ...       299.0\n",
              "5  pTron Studio Over Ear Bluetooth 5.0 Wireless H...  ...       799.0\n",
              "\n",
              "[5 rows x 5 columns]"
            ]
          },
          "metadata": {},
          "execution_count": 44
        }
      ]
    },
    {
      "cell_type": "code",
      "source": [
        "def next_page_soup(soup):\n",
        "  next_page = soup.find('a', class_=\"s-pagination-item s-pagination-next s-pagination-button s-pagination-separator\")['href']\n",
        "  ua = UserAgent()\n",
        "  header = {'user-agent':ua.chrome}\n",
        "  google_page = requests.get(str('https://www.amazon.in'+next_page),headers=header)\n",
        "  #print(google_page.content)\n",
        "\n",
        "  soup1 = BeautifulSoup(google_page.content,'lxml') # html.parser\n",
        "  return soup1"
      ],
      "metadata": {
        "id": "2j_8fFzhjnUH"
      },
      "execution_count": 27,
      "outputs": []
    },
    {
      "cell_type": "code",
      "source": [
        "soup1 = next_page_soup(soup)"
      ],
      "metadata": {
        "id": "8xKjIt4wju8g"
      },
      "execution_count": 34,
      "outputs": []
    },
    {
      "cell_type": "code",
      "source": [
        "soup2 = next_page_soup(soup1)"
      ],
      "metadata": {
        "id": "0D5p0zLAEyiD"
      },
      "execution_count": 35,
      "outputs": []
    },
    {
      "cell_type": "code",
      "source": [
        "soup3 = next_page_soup(soup2)"
      ],
      "metadata": {
        "id": "0_LSVmF8EyX4"
      },
      "execution_count": 36,
      "outputs": []
    },
    {
      "cell_type": "code",
      "source": [
        "soup4 = next_page_soup(soup3)"
      ],
      "metadata": {
        "id": "fjHFV6K2EyOU"
      },
      "execution_count": 39,
      "outputs": []
    },
    {
      "cell_type": "code",
      "source": [
        "soup5 = next_page_soup(soup4)"
      ],
      "metadata": {
        "id": "S4cCiZzrFIOR"
      },
      "execution_count": 40,
      "outputs": []
    },
    {
      "cell_type": "code",
      "source": [
        "df1 = soup_df(soup1)\n",
        "df2 = soup_df(soup2)\n",
        "df3 = soup_df(soup3)\n",
        "df5 = soup_df(soup4)\n",
        "df6 = soup_df(soup5)"
      ],
      "metadata": {
        "id": "4tOq2hc2mcVw",
        "colab": {
          "base_uri": "https://localhost:8080/"
        },
        "outputId": "ef868de2-d348-4b2d-b2ed-f04635decf3f"
      },
      "execution_count": 41,
      "outputs": [
        {
          "output_type": "stream",
          "name": "stderr",
          "text": [
            "/usr/local/lib/python3.7/dist-packages/pandas/core/indexing.py:1732: SettingWithCopyWarning: \n",
            "A value is trying to be set on a copy of a slice from a DataFrame\n",
            "\n",
            "See the caveats in the documentation: https://pandas.pydata.org/pandas-docs/stable/user_guide/indexing.html#returning-a-view-versus-a-copy\n",
            "  self._setitem_single_block(indexer, value, name)\n"
          ]
        }
      ]
    },
    {
      "cell_type": "code",
      "source": [
        "df4 =pd.concat([df,df1,df2,df3,df5,df6], axis = 0)\n",
        "df4 = df4.drop_duplicates(['Product name'])\n",
        "df4"
      ],
      "metadata": {
        "id": "sjCijRVzm6GJ",
        "colab": {
          "base_uri": "https://localhost:8080/",
          "height": 423
        },
        "outputId": "a325ebd0-2803-49a5-8a18-ec360f072d27"
      },
      "execution_count": 45,
      "outputs": [
        {
          "output_type": "execute_result",
          "data": {
            "text/html": [
              "\n",
              "  <div id=\"df-c4dd1823-45e0-434d-bb3a-8b6b0e01045e\">\n",
              "    <div class=\"colab-df-container\">\n",
              "      <div>\n",
              "<style scoped>\n",
              "    .dataframe tbody tr th:only-of-type {\n",
              "        vertical-align: middle;\n",
              "    }\n",
              "\n",
              "    .dataframe tbody tr th {\n",
              "        vertical-align: top;\n",
              "    }\n",
              "\n",
              "    .dataframe thead th {\n",
              "        text-align: right;\n",
              "    }\n",
              "</style>\n",
              "<table border=\"1\" class=\"dataframe\">\n",
              "  <thead>\n",
              "    <tr style=\"text-align: right;\">\n",
              "      <th></th>\n",
              "      <th>Product name</th>\n",
              "      <th>mrp</th>\n",
              "      <th>rating</th>\n",
              "      <th>reviews</th>\n",
              "      <th>offer price</th>\n",
              "    </tr>\n",
              "  </thead>\n",
              "  <tbody>\n",
              "    <tr>\n",
              "      <th>0</th>\n",
              "      <td>boAt Rockerz 550 Bluetooth Wireless Over Ear H...</td>\n",
              "      <td>4999.0</td>\n",
              "      <td>4.1</td>\n",
              "      <td>36277</td>\n",
              "      <td>1899.0</td>\n",
              "    </tr>\n",
              "    <tr>\n",
              "      <th>1</th>\n",
              "      <td>boAt Rockerz 450 Pro Bluetooth Wireless On Ear...</td>\n",
              "      <td>3990.0</td>\n",
              "      <td>4.1</td>\n",
              "      <td>69124</td>\n",
              "      <td>1799.0</td>\n",
              "    </tr>\n",
              "    <tr>\n",
              "      <th>2</th>\n",
              "      <td>boAt Rockerz 450 Bluetooth Wireless On Ear Hea...</td>\n",
              "      <td>3990.0</td>\n",
              "      <td>4.1</td>\n",
              "      <td>69124</td>\n",
              "      <td>1399.0</td>\n",
              "    </tr>\n",
              "    <tr>\n",
              "      <th>3</th>\n",
              "      <td>boAt Bassheads 900 Wired On Ear Headphones wit...</td>\n",
              "      <td>2490.0</td>\n",
              "      <td>4.2</td>\n",
              "      <td>72287</td>\n",
              "      <td>699.0</td>\n",
              "    </tr>\n",
              "    <tr>\n",
              "      <th>4</th>\n",
              "      <td>boAt Rockerz 370 Bluetooth Wireless On Ear Hea...</td>\n",
              "      <td>2499.0</td>\n",
              "      <td>4.0</td>\n",
              "      <td>18502</td>\n",
              "      <td>999.0</td>\n",
              "    </tr>\n",
              "    <tr>\n",
              "      <th>...</th>\n",
              "      <td>...</td>\n",
              "      <td>...</td>\n",
              "      <td>...</td>\n",
              "      <td>...</td>\n",
              "      <td>...</td>\n",
              "    </tr>\n",
              "    <tr>\n",
              "      <th>15</th>\n",
              "      <td>Teqneq All Smartphone Bluetooth Bluetooth Trul...</td>\n",
              "      <td>999.0</td>\n",
              "      <td>4.0</td>\n",
              "      <td>193</td>\n",
              "      <td>249.0</td>\n",
              "    </tr>\n",
              "    <tr>\n",
              "      <th>16</th>\n",
              "      <td>U &amp; I Alarm Series Uinb-4851 Bluetooth Wireles...</td>\n",
              "      <td>2999.0</td>\n",
              "      <td>3.9</td>\n",
              "      <td>45808</td>\n",
              "      <td>599.0</td>\n",
              "    </tr>\n",
              "    <tr>\n",
              "      <th>17</th>\n",
              "      <td>pTron Tangentbeat Bluetooth 5.0 Wireless Headp...</td>\n",
              "      <td>2499.0</td>\n",
              "      <td>4.2</td>\n",
              "      <td>58314</td>\n",
              "      <td>699.0</td>\n",
              "    </tr>\n",
              "    <tr>\n",
              "      <th>18</th>\n",
              "      <td>boAt Bassheads 102 in Ear Wired Earphones with...</td>\n",
              "      <td>1290.0</td>\n",
              "      <td>4.9</td>\n",
              "      <td>101</td>\n",
              "      <td>349.0</td>\n",
              "    </tr>\n",
              "    <tr>\n",
              "      <th>19</th>\n",
              "      <td>URBN Thump 550 HD Sound Deep Bass Wireless Blu...</td>\n",
              "      <td>2999.0</td>\n",
              "      <td>4.2</td>\n",
              "      <td>4318</td>\n",
              "      <td>999.0</td>\n",
              "    </tr>\n",
              "  </tbody>\n",
              "</table>\n",
              "<p>90 rows × 5 columns</p>\n",
              "</div>\n",
              "      <button class=\"colab-df-convert\" onclick=\"convertToInteractive('df-c4dd1823-45e0-434d-bb3a-8b6b0e01045e')\"\n",
              "              title=\"Convert this dataframe to an interactive table.\"\n",
              "              style=\"display:none;\">\n",
              "        \n",
              "  <svg xmlns=\"http://www.w3.org/2000/svg\" height=\"24px\"viewBox=\"0 0 24 24\"\n",
              "       width=\"24px\">\n",
              "    <path d=\"M0 0h24v24H0V0z\" fill=\"none\"/>\n",
              "    <path d=\"M18.56 5.44l.94 2.06.94-2.06 2.06-.94-2.06-.94-.94-2.06-.94 2.06-2.06.94zm-11 1L8.5 8.5l.94-2.06 2.06-.94-2.06-.94L8.5 2.5l-.94 2.06-2.06.94zm10 10l.94 2.06.94-2.06 2.06-.94-2.06-.94-.94-2.06-.94 2.06-2.06.94z\"/><path d=\"M17.41 7.96l-1.37-1.37c-.4-.4-.92-.59-1.43-.59-.52 0-1.04.2-1.43.59L10.3 9.45l-7.72 7.72c-.78.78-.78 2.05 0 2.83L4 21.41c.39.39.9.59 1.41.59.51 0 1.02-.2 1.41-.59l7.78-7.78 2.81-2.81c.8-.78.8-2.07 0-2.86zM5.41 20L4 18.59l7.72-7.72 1.47 1.35L5.41 20z\"/>\n",
              "  </svg>\n",
              "      </button>\n",
              "      \n",
              "  <style>\n",
              "    .colab-df-container {\n",
              "      display:flex;\n",
              "      flex-wrap:wrap;\n",
              "      gap: 12px;\n",
              "    }\n",
              "\n",
              "    .colab-df-convert {\n",
              "      background-color: #E8F0FE;\n",
              "      border: none;\n",
              "      border-radius: 50%;\n",
              "      cursor: pointer;\n",
              "      display: none;\n",
              "      fill: #1967D2;\n",
              "      height: 32px;\n",
              "      padding: 0 0 0 0;\n",
              "      width: 32px;\n",
              "    }\n",
              "\n",
              "    .colab-df-convert:hover {\n",
              "      background-color: #E2EBFA;\n",
              "      box-shadow: 0px 1px 2px rgba(60, 64, 67, 0.3), 0px 1px 3px 1px rgba(60, 64, 67, 0.15);\n",
              "      fill: #174EA6;\n",
              "    }\n",
              "\n",
              "    [theme=dark] .colab-df-convert {\n",
              "      background-color: #3B4455;\n",
              "      fill: #D2E3FC;\n",
              "    }\n",
              "\n",
              "    [theme=dark] .colab-df-convert:hover {\n",
              "      background-color: #434B5C;\n",
              "      box-shadow: 0px 1px 3px 1px rgba(0, 0, 0, 0.15);\n",
              "      filter: drop-shadow(0px 1px 2px rgba(0, 0, 0, 0.3));\n",
              "      fill: #FFFFFF;\n",
              "    }\n",
              "  </style>\n",
              "\n",
              "      <script>\n",
              "        const buttonEl =\n",
              "          document.querySelector('#df-c4dd1823-45e0-434d-bb3a-8b6b0e01045e button.colab-df-convert');\n",
              "        buttonEl.style.display =\n",
              "          google.colab.kernel.accessAllowed ? 'block' : 'none';\n",
              "\n",
              "        async function convertToInteractive(key) {\n",
              "          const element = document.querySelector('#df-c4dd1823-45e0-434d-bb3a-8b6b0e01045e');\n",
              "          const dataTable =\n",
              "            await google.colab.kernel.invokeFunction('convertToInteractive',\n",
              "                                                     [key], {});\n",
              "          if (!dataTable) return;\n",
              "\n",
              "          const docLinkHtml = 'Like what you see? Visit the ' +\n",
              "            '<a target=\"_blank\" href=https://colab.research.google.com/notebooks/data_table.ipynb>data table notebook</a>'\n",
              "            + ' to learn more about interactive tables.';\n",
              "          element.innerHTML = '';\n",
              "          dataTable['output_type'] = 'display_data';\n",
              "          await google.colab.output.renderOutput(dataTable, element);\n",
              "          const docLink = document.createElement('div');\n",
              "          docLink.innerHTML = docLinkHtml;\n",
              "          element.appendChild(docLink);\n",
              "        }\n",
              "      </script>\n",
              "    </div>\n",
              "  </div>\n",
              "  "
            ],
            "text/plain": [
              "                                         Product name  ... offer price\n",
              "0   boAt Rockerz 550 Bluetooth Wireless Over Ear H...  ...      1899.0\n",
              "1   boAt Rockerz 450 Pro Bluetooth Wireless On Ear...  ...      1799.0\n",
              "2   boAt Rockerz 450 Bluetooth Wireless On Ear Hea...  ...      1399.0\n",
              "3   boAt Bassheads 900 Wired On Ear Headphones wit...  ...       699.0\n",
              "4   boAt Rockerz 370 Bluetooth Wireless On Ear Hea...  ...       999.0\n",
              "..                                                ...  ...         ...\n",
              "15  Teqneq All Smartphone Bluetooth Bluetooth Trul...  ...       249.0\n",
              "16  U & I Alarm Series Uinb-4851 Bluetooth Wireles...  ...       599.0\n",
              "17  pTron Tangentbeat Bluetooth 5.0 Wireless Headp...  ...       699.0\n",
              "18  boAt Bassheads 102 in Ear Wired Earphones with...  ...       349.0\n",
              "19  URBN Thump 550 HD Sound Deep Bass Wireless Blu...  ...       999.0\n",
              "\n",
              "[90 rows x 5 columns]"
            ]
          },
          "metadata": {},
          "execution_count": 45
        }
      ]
    },
    {
      "cell_type": "code",
      "source": [
        "df4['reviews'].unique()"
      ],
      "metadata": {
        "id": "8rxS04tOn1el",
        "colab": {
          "base_uri": "https://localhost:8080/"
        },
        "outputId": "fa0d4e9d-32e9-4ccb-a7ff-c248c132c9cd"
      },
      "execution_count": 47,
      "outputs": [
        {
          "output_type": "execute_result",
          "data": {
            "text/plain": [
              "array(['36277', '69124', '72287', '18502', '87986', '40841', '15320',\n",
              "       '1223', '469', '58781', '37052', '5806', '80514', '23496', '389',\n",
              "       '45916', '37053', '43306', '28635', '66926', '9902', '4318',\n",
              "       '36419', '576', '13580', '15362', '9633', '10', '38686', '45808',\n",
              "       '293316', '7926', '132', '5', '3230', '6221', '1243', '7', '23219',\n",
              "       '173337', '113540', '2610', '96', '21', '10438', '48365', '73831',\n",
              "       '3356', '12933', '12987', '5917', '164218', '2', '442765', '674',\n",
              "       '80', '4793', '17508', '111177', '36', '193', '58314', '101'],\n",
              "      dtype=object)"
            ]
          },
          "metadata": {},
          "execution_count": 47
        }
      ]
    },
    {
      "cell_type": "code",
      "source": [
        "df4['reviews'] = df4['reviews'].astype(str)\n",
        "df4 = df4.reset_index(drop=True)"
      ],
      "metadata": {
        "id": "tVXKmCGfIh4S"
      },
      "execution_count": 48,
      "outputs": []
    },
    {
      "cell_type": "code",
      "source": [
        "i = 0\n",
        "\n",
        "for i in range(len(df4['reviews'])):\n",
        "  df4['reviews'][i] = df4['reviews'][i].replace(',','')"
      ],
      "metadata": {
        "id": "ZhoWilV3G0Bf"
      },
      "execution_count": 50,
      "outputs": []
    },
    {
      "cell_type": "code",
      "source": [
        "df4['reviews'] = df4['reviews'].astype(float)\n",
        "df4 = df4[df4['reviews']>100]"
      ],
      "metadata": {
        "id": "BmlY7_XhsenH"
      },
      "execution_count": 51,
      "outputs": []
    },
    {
      "cell_type": "code",
      "source": [
        "df4.shape"
      ],
      "metadata": {
        "id": "_Qz7rzUjttTm",
        "colab": {
          "base_uri": "https://localhost:8080/"
        },
        "outputId": "93fff10e-e2d7-406f-eea6-f029db9ff654"
      },
      "execution_count": 52,
      "outputs": [
        {
          "output_type": "execute_result",
          "data": {
            "text/plain": [
              "(80, 5)"
            ]
          },
          "metadata": {},
          "execution_count": 52
        }
      ]
    },
    {
      "cell_type": "code",
      "source": [
        "df4['discount'] = (1-(df4['offer price']/df4['mrp']))*100\n",
        "df4.head()"
      ],
      "metadata": {
        "id": "DTug2HIA0ght",
        "colab": {
          "base_uri": "https://localhost:8080/",
          "height": 206
        },
        "outputId": "d58dc48a-b573-403b-fdc0-0ef863813b54"
      },
      "execution_count": 53,
      "outputs": [
        {
          "output_type": "execute_result",
          "data": {
            "text/html": [
              "\n",
              "  <div id=\"df-c2bf43ef-48d8-42d5-a2f1-9ce8566c2c00\">\n",
              "    <div class=\"colab-df-container\">\n",
              "      <div>\n",
              "<style scoped>\n",
              "    .dataframe tbody tr th:only-of-type {\n",
              "        vertical-align: middle;\n",
              "    }\n",
              "\n",
              "    .dataframe tbody tr th {\n",
              "        vertical-align: top;\n",
              "    }\n",
              "\n",
              "    .dataframe thead th {\n",
              "        text-align: right;\n",
              "    }\n",
              "</style>\n",
              "<table border=\"1\" class=\"dataframe\">\n",
              "  <thead>\n",
              "    <tr style=\"text-align: right;\">\n",
              "      <th></th>\n",
              "      <th>Product name</th>\n",
              "      <th>mrp</th>\n",
              "      <th>rating</th>\n",
              "      <th>reviews</th>\n",
              "      <th>offer price</th>\n",
              "      <th>discount</th>\n",
              "    </tr>\n",
              "  </thead>\n",
              "  <tbody>\n",
              "    <tr>\n",
              "      <th>0</th>\n",
              "      <td>boAt Rockerz 550 Bluetooth Wireless Over Ear H...</td>\n",
              "      <td>4999.0</td>\n",
              "      <td>4.1</td>\n",
              "      <td>36277.0</td>\n",
              "      <td>1899.0</td>\n",
              "      <td>62.012402</td>\n",
              "    </tr>\n",
              "    <tr>\n",
              "      <th>1</th>\n",
              "      <td>boAt Rockerz 450 Pro Bluetooth Wireless On Ear...</td>\n",
              "      <td>3990.0</td>\n",
              "      <td>4.1</td>\n",
              "      <td>69124.0</td>\n",
              "      <td>1799.0</td>\n",
              "      <td>54.912281</td>\n",
              "    </tr>\n",
              "    <tr>\n",
              "      <th>2</th>\n",
              "      <td>boAt Rockerz 450 Bluetooth Wireless On Ear Hea...</td>\n",
              "      <td>3990.0</td>\n",
              "      <td>4.1</td>\n",
              "      <td>69124.0</td>\n",
              "      <td>1399.0</td>\n",
              "      <td>64.937343</td>\n",
              "    </tr>\n",
              "    <tr>\n",
              "      <th>3</th>\n",
              "      <td>boAt Bassheads 900 Wired On Ear Headphones wit...</td>\n",
              "      <td>2490.0</td>\n",
              "      <td>4.2</td>\n",
              "      <td>72287.0</td>\n",
              "      <td>699.0</td>\n",
              "      <td>71.927711</td>\n",
              "    </tr>\n",
              "    <tr>\n",
              "      <th>4</th>\n",
              "      <td>boAt Rockerz 370 Bluetooth Wireless On Ear Hea...</td>\n",
              "      <td>2499.0</td>\n",
              "      <td>4.0</td>\n",
              "      <td>18502.0</td>\n",
              "      <td>999.0</td>\n",
              "      <td>60.02401</td>\n",
              "    </tr>\n",
              "  </tbody>\n",
              "</table>\n",
              "</div>\n",
              "      <button class=\"colab-df-convert\" onclick=\"convertToInteractive('df-c2bf43ef-48d8-42d5-a2f1-9ce8566c2c00')\"\n",
              "              title=\"Convert this dataframe to an interactive table.\"\n",
              "              style=\"display:none;\">\n",
              "        \n",
              "  <svg xmlns=\"http://www.w3.org/2000/svg\" height=\"24px\"viewBox=\"0 0 24 24\"\n",
              "       width=\"24px\">\n",
              "    <path d=\"M0 0h24v24H0V0z\" fill=\"none\"/>\n",
              "    <path d=\"M18.56 5.44l.94 2.06.94-2.06 2.06-.94-2.06-.94-.94-2.06-.94 2.06-2.06.94zm-11 1L8.5 8.5l.94-2.06 2.06-.94-2.06-.94L8.5 2.5l-.94 2.06-2.06.94zm10 10l.94 2.06.94-2.06 2.06-.94-2.06-.94-.94-2.06-.94 2.06-2.06.94z\"/><path d=\"M17.41 7.96l-1.37-1.37c-.4-.4-.92-.59-1.43-.59-.52 0-1.04.2-1.43.59L10.3 9.45l-7.72 7.72c-.78.78-.78 2.05 0 2.83L4 21.41c.39.39.9.59 1.41.59.51 0 1.02-.2 1.41-.59l7.78-7.78 2.81-2.81c.8-.78.8-2.07 0-2.86zM5.41 20L4 18.59l7.72-7.72 1.47 1.35L5.41 20z\"/>\n",
              "  </svg>\n",
              "      </button>\n",
              "      \n",
              "  <style>\n",
              "    .colab-df-container {\n",
              "      display:flex;\n",
              "      flex-wrap:wrap;\n",
              "      gap: 12px;\n",
              "    }\n",
              "\n",
              "    .colab-df-convert {\n",
              "      background-color: #E8F0FE;\n",
              "      border: none;\n",
              "      border-radius: 50%;\n",
              "      cursor: pointer;\n",
              "      display: none;\n",
              "      fill: #1967D2;\n",
              "      height: 32px;\n",
              "      padding: 0 0 0 0;\n",
              "      width: 32px;\n",
              "    }\n",
              "\n",
              "    .colab-df-convert:hover {\n",
              "      background-color: #E2EBFA;\n",
              "      box-shadow: 0px 1px 2px rgba(60, 64, 67, 0.3), 0px 1px 3px 1px rgba(60, 64, 67, 0.15);\n",
              "      fill: #174EA6;\n",
              "    }\n",
              "\n",
              "    [theme=dark] .colab-df-convert {\n",
              "      background-color: #3B4455;\n",
              "      fill: #D2E3FC;\n",
              "    }\n",
              "\n",
              "    [theme=dark] .colab-df-convert:hover {\n",
              "      background-color: #434B5C;\n",
              "      box-shadow: 0px 1px 3px 1px rgba(0, 0, 0, 0.15);\n",
              "      filter: drop-shadow(0px 1px 2px rgba(0, 0, 0, 0.3));\n",
              "      fill: #FFFFFF;\n",
              "    }\n",
              "  </style>\n",
              "\n",
              "      <script>\n",
              "        const buttonEl =\n",
              "          document.querySelector('#df-c2bf43ef-48d8-42d5-a2f1-9ce8566c2c00 button.colab-df-convert');\n",
              "        buttonEl.style.display =\n",
              "          google.colab.kernel.accessAllowed ? 'block' : 'none';\n",
              "\n",
              "        async function convertToInteractive(key) {\n",
              "          const element = document.querySelector('#df-c2bf43ef-48d8-42d5-a2f1-9ce8566c2c00');\n",
              "          const dataTable =\n",
              "            await google.colab.kernel.invokeFunction('convertToInteractive',\n",
              "                                                     [key], {});\n",
              "          if (!dataTable) return;\n",
              "\n",
              "          const docLinkHtml = 'Like what you see? Visit the ' +\n",
              "            '<a target=\"_blank\" href=https://colab.research.google.com/notebooks/data_table.ipynb>data table notebook</a>'\n",
              "            + ' to learn more about interactive tables.';\n",
              "          element.innerHTML = '';\n",
              "          dataTable['output_type'] = 'display_data';\n",
              "          await google.colab.output.renderOutput(dataTable, element);\n",
              "          const docLink = document.createElement('div');\n",
              "          docLink.innerHTML = docLinkHtml;\n",
              "          element.appendChild(docLink);\n",
              "        }\n",
              "      </script>\n",
              "    </div>\n",
              "  </div>\n",
              "  "
            ],
            "text/plain": [
              "                                        Product name  ...   discount\n",
              "0  boAt Rockerz 550 Bluetooth Wireless Over Ear H...  ...  62.012402\n",
              "1  boAt Rockerz 450 Pro Bluetooth Wireless On Ear...  ...  54.912281\n",
              "2  boAt Rockerz 450 Bluetooth Wireless On Ear Hea...  ...  64.937343\n",
              "3  boAt Bassheads 900 Wired On Ear Headphones wit...  ...  71.927711\n",
              "4  boAt Rockerz 370 Bluetooth Wireless On Ear Hea...  ...   60.02401\n",
              "\n",
              "[5 rows x 6 columns]"
            ]
          },
          "metadata": {},
          "execution_count": 53
        }
      ]
    },
    {
      "cell_type": "code",
      "source": [
        "new_df = df4.groupby('rating').sum()"
      ],
      "metadata": {
        "id": "xdWEbnkp3U8z"
      },
      "execution_count": 54,
      "outputs": []
    },
    {
      "cell_type": "code",
      "source": [
        "new_df['reviews']"
      ],
      "metadata": {
        "id": "9EWn6HIA38x-",
        "colab": {
          "base_uri": "https://localhost:8080/"
        },
        "outputId": "cd294280-b9d0-4b55-967c-1f87731b17ae"
      },
      "execution_count": 55,
      "outputs": [
        {
          "output_type": "execute_result",
          "data": {
            "text/plain": [
              "rating\n",
              "3.5      67600.0\n",
              "3.6     158224.0\n",
              "3.7       5917.0\n",
              "3.8      65563.0\n",
              "3.9     567430.0\n",
              "4.0     271747.0\n",
              "4.1    1810192.0\n",
              "4.2     378145.0\n",
              "4.3     284514.0\n",
              "4.5       5806.0\n",
              "4.9        101.0\n",
              "Name: reviews, dtype: float64"
            ]
          },
          "metadata": {},
          "execution_count": 55
        }
      ]
    },
    {
      "cell_type": "code",
      "source": [
        "import matplotlib.pyplot as plt\n",
        "plt.scatter(new_df.index,new_df['reviews'])\n",
        "plt.xlabel('rating')\n",
        "plt.ylabel('number of reviews')\n",
        "plt.title('Headphones')\n",
        "plt.show()\n"
      ],
      "metadata": {
        "id": "0Rlmj63l4Jsl",
        "colab": {
          "base_uri": "https://localhost:8080/",
          "height": 295
        },
        "outputId": "cf35d36b-1c79-4bd6-dbc8-5dc2ec60ffda"
      },
      "execution_count": 56,
      "outputs": [
        {
          "output_type": "display_data",
          "data": {
            "image/png": "[encoded data removed]",
            "text/plain": [
              "<Figure size 432x288 with 1 Axes>"
            ]
          },
          "metadata": {
            "needs_background": "light"
          }
        }
      ]
    },
    {
      "cell_type": "markdown",
      "source": [
        "**The below code will recomend the best headphone considering maximum reviews,rating and discount** - **max(reviews x rating x discount)**\n",
        "\n",
        "\n",
        "\n",
        "\n"
      ],
      "metadata": {
        "id": "ZiRuGVM9UzOb"
      }
    },
    {
      "cell_type": "code",
      "source": [
        "df4['rating'] = df4['rating'].astype(float)\n",
        "df4['col'] = df4['reviews']*df4['rating']*df4['discount']\n",
        "\n",
        "df4[df4['col'] == (df4['reviews']*df4['rating']*df4['discount']).max()]"
      ],
      "metadata": {
        "id": "i_jhOUsvvTSb",
        "colab": {
          "base_uri": "https://localhost:8080/",
          "height": 81
        },
        "outputId": "ad3b52ca-f51d-487b-f2bf-3706fdb853e8"
      },
      "execution_count": 58,
      "outputs": [
        {
          "output_type": "execute_result",
          "data": {
            "text/html": [
              "\n",
              "  <div id=\"df-99901226-c6d4-46de-9253-cc416bbaac0b\">\n",
              "    <div class=\"colab-df-container\">\n",
              "      <div>\n",
              "<style scoped>\n",
              "    .dataframe tbody tr th:only-of-type {\n",
              "        vertical-align: middle;\n",
              "    }\n",
              "\n",
              "    .dataframe tbody tr th {\n",
              "        vertical-align: top;\n",
              "    }\n",
              "\n",
              "    .dataframe thead th {\n",
              "        text-align: right;\n",
              "    }\n",
              "</style>\n",
              "<table border=\"1\" class=\"dataframe\">\n",
              "  <thead>\n",
              "    <tr style=\"text-align: right;\">\n",
              "      <th></th>\n",
              "      <th>Product name</th>\n",
              "      <th>mrp</th>\n",
              "      <th>rating</th>\n",
              "      <th>reviews</th>\n",
              "      <th>offer price</th>\n",
              "      <th>discount</th>\n",
              "      <th>col</th>\n",
              "    </tr>\n",
              "  </thead>\n",
              "  <tbody>\n",
              "    <tr>\n",
              "      <th>71</th>\n",
              "      <td>boAt Rockerz 255 in-Ear Earphones with 8 Hours...</td>\n",
              "      <td>2990.0</td>\n",
              "      <td>4.1</td>\n",
              "      <td>442765.0</td>\n",
              "      <td>1199.0</td>\n",
              "      <td>59.899666</td>\n",
              "      <td>108738049.214047</td>\n",
              "    </tr>\n",
              "  </tbody>\n",
              "</table>\n",
              "</div>\n",
              "      <button class=\"colab-df-convert\" onclick=\"convertToInteractive('df-99901226-c6d4-46de-9253-cc416bbaac0b')\"\n",
              "              title=\"Convert this dataframe to an interactive table.\"\n",
              "              style=\"display:none;\">\n",
              "        \n",
              "  <svg xmlns=\"http://www.w3.org/2000/svg\" height=\"24px\"viewBox=\"0 0 24 24\"\n",
              "       width=\"24px\">\n",
              "    <path d=\"M0 0h24v24H0V0z\" fill=\"none\"/>\n",
              "    <path d=\"M18.56 5.44l.94 2.06.94-2.06 2.06-.94-2.06-.94-.94-2.06-.94 2.06-2.06.94zm-11 1L8.5 8.5l.94-2.06 2.06-.94-2.06-.94L8.5 2.5l-.94 2.06-2.06.94zm10 10l.94 2.06.94-2.06 2.06-.94-2.06-.94-.94-2.06-.94 2.06-2.06.94z\"/><path d=\"M17.41 7.96l-1.37-1.37c-.4-.4-.92-.59-1.43-.59-.52 0-1.04.2-1.43.59L10.3 9.45l-7.72 7.72c-.78.78-.78 2.05 0 2.83L4 21.41c.39.39.9.59 1.41.59.51 0 1.02-.2 1.41-.59l7.78-7.78 2.81-2.81c.8-.78.8-2.07 0-2.86zM5.41 20L4 18.59l7.72-7.72 1.47 1.35L5.41 20z\"/>\n",
              "  </svg>\n",
              "      </button>\n",
              "      \n",
              "  <style>\n",
              "    .colab-df-container {\n",
              "      display:flex;\n",
              "      flex-wrap:wrap;\n",
              "      gap: 12px;\n",
              "    }\n",
              "\n",
              "    .colab-df-convert {\n",
              "      background-color: #E8F0FE;\n",
              "      border: none;\n",
              "      border-radius: 50%;\n",
              "      cursor: pointer;\n",
              "      display: none;\n",
              "      fill: #1967D2;\n",
              "      height: 32px;\n",
              "      padding: 0 0 0 0;\n",
              "      width: 32px;\n",
              "    }\n",
              "\n",
              "    .colab-df-convert:hover {\n",
              "      background-color: #E2EBFA;\n",
              "      box-shadow: 0px 1px 2px rgba(60, 64, 67, 0.3), 0px 1px 3px 1px rgba(60, 64, 67, 0.15);\n",
              "      fill: #174EA6;\n",
              "    }\n",
              "\n",
              "    [theme=dark] .colab-df-convert {\n",
              "      background-color: #3B4455;\n",
              "      fill: #D2E3FC;\n",
              "    }\n",
              "\n",
              "    [theme=dark] .colab-df-convert:hover {\n",
              "      background-color: #434B5C;\n",
              "      box-shadow: 0px 1px 3px 1px rgba(0, 0, 0, 0.15);\n",
              "      filter: drop-shadow(0px 1px 2px rgba(0, 0, 0, 0.3));\n",
              "      fill: #FFFFFF;\n",
              "    }\n",
              "  </style>\n",
              "\n",
              "      <script>\n",
              "        const buttonEl =\n",
              "          document.querySelector('#df-99901226-c6d4-46de-9253-cc416bbaac0b button.colab-df-convert');\n",
              "        buttonEl.style.display =\n",
              "          google.colab.kernel.accessAllowed ? 'block' : 'none';\n",
              "\n",
              "        async function convertToInteractive(key) {\n",
              "          const element = document.querySelector('#df-99901226-c6d4-46de-9253-cc416bbaac0b');\n",
              "          const dataTable =\n",
              "            await google.colab.kernel.invokeFunction('convertToInteractive',\n",
              "                                                     [key], {});\n",
              "          if (!dataTable) return;\n",
              "\n",
              "          const docLinkHtml = 'Like what you see? Visit the ' +\n",
              "            '<a target=\"_blank\" href=https://colab.research.google.com/notebooks/data_table.ipynb>data table notebook</a>'\n",
              "            + ' to learn more about interactive tables.';\n",
              "          element.innerHTML = '';\n",
              "          dataTable['output_type'] = 'display_data';\n",
              "          await google.colab.output.renderOutput(dataTable, element);\n",
              "          const docLink = document.createElement('div');\n",
              "          docLink.innerHTML = docLinkHtml;\n",
              "          element.appendChild(docLink);\n",
              "        }\n",
              "      </script>\n",
              "    </div>\n",
              "  </div>\n",
              "  "
            ],
            "text/plain": [
              "                                         Product name  ...               col\n",
              "71  boAt Rockerz 255 in-Ear Earphones with 8 Hours...  ...  108738049.214047\n",
              "\n",
              "[1 rows x 7 columns]"
            ]
          },
          "metadata": {},
          "execution_count": 58
        }
      ]
    },
    {
      "cell_type": "markdown",
      "source": [
        "**It turns out that the same earphone is on amazon's choice**\n",
        "\n",
        "![image.png](data:image/png;base64,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)"
      ],
      "metadata": {
        "id": "8_YmzQ2xX9M7"
      }
    },
    {
      "cell_type": "code",
      "source": [
        "df4.drop(['col'], axis = 1, inplace = True)\n"
      ],
      "metadata": {
        "id": "jO6thtdqTnIO"
      },
      "execution_count": 59,
      "outputs": []
    },
    {
      "cell_type": "code",
      "source": [
        "df4.to_csv('Headphone prices')\n",
        "df4.shape\n",
        "df4.head()"
      ],
      "metadata": {
        "colab": {
          "base_uri": "https://localhost:8080/",
          "height": 206
        },
        "id": "FHvVm7gdW19T",
        "outputId": "82c47f27-30fe-4a45-a462-bc3018d54e2f"
      },
      "execution_count": 60,
      "outputs": [
        {
          "output_type": "execute_result",
          "data": {
            "text/html": [
              "\n",
              "  <div id=\"df-b2b8e74c-7b3b-4998-afb3-0fb0c0727e16\">\n",
              "    <div class=\"colab-df-container\">\n",
              "      <div>\n",
              "<style scoped>\n",
              "    .dataframe tbody tr th:only-of-type {\n",
              "        vertical-align: middle;\n",
              "    }\n",
              "\n",
              "    .dataframe tbody tr th {\n",
              "        vertical-align: top;\n",
              "    }\n",
              "\n",
              "    .dataframe thead th {\n",
              "        text-align: right;\n",
              "    }\n",
              "</style>\n",
              "<table border=\"1\" class=\"dataframe\">\n",
              "  <thead>\n",
              "    <tr style=\"text-align: right;\">\n",
              "      <th></th>\n",
              "      <th>Product name</th>\n",
              "      <th>mrp</th>\n",
              "      <th>rating</th>\n",
              "      <th>reviews</th>\n",
              "      <th>offer price</th>\n",
              "      <th>discount</th>\n",
              "    </tr>\n",
              "  </thead>\n",
              "  <tbody>\n",
              "    <tr>\n",
              "      <th>0</th>\n",
              "      <td>boAt Rockerz 550 Bluetooth Wireless Over Ear H...</td>\n",
              "      <td>4999.0</td>\n",
              "      <td>4.1</td>\n",
              "      <td>36277.0</td>\n",
              "      <td>1899.0</td>\n",
              "      <td>62.012402</td>\n",
              "    </tr>\n",
              "    <tr>\n",
              "      <th>1</th>\n",
              "      <td>boAt Rockerz 450 Pro Bluetooth Wireless On Ear...</td>\n",
              "      <td>3990.0</td>\n",
              "      <td>4.1</td>\n",
              "      <td>69124.0</td>\n",
              "      <td>1799.0</td>\n",
              "      <td>54.912281</td>\n",
              "    </tr>\n",
              "    <tr>\n",
              "      <th>2</th>\n",
              "      <td>boAt Rockerz 450 Bluetooth Wireless On Ear Hea...</td>\n",
              "      <td>3990.0</td>\n",
              "      <td>4.1</td>\n",
              "      <td>69124.0</td>\n",
              "      <td>1399.0</td>\n",
              "      <td>64.937343</td>\n",
              "    </tr>\n",
              "    <tr>\n",
              "      <th>3</th>\n",
              "      <td>boAt Bassheads 900 Wired On Ear Headphones wit...</td>\n",
              "      <td>2490.0</td>\n",
              "      <td>4.2</td>\n",
              "      <td>72287.0</td>\n",
              "      <td>699.0</td>\n",
              "      <td>71.927711</td>\n",
              "    </tr>\n",
              "    <tr>\n",
              "      <th>4</th>\n",
              "      <td>boAt Rockerz 370 Bluetooth Wireless On Ear Hea...</td>\n",
              "      <td>2499.0</td>\n",
              "      <td>4.0</td>\n",
              "      <td>18502.0</td>\n",
              "      <td>999.0</td>\n",
              "      <td>60.02401</td>\n",
              "    </tr>\n",
              "  </tbody>\n",
              "</table>\n",
              "</div>\n",
              "      <button class=\"colab-df-convert\" onclick=\"convertToInteractive('df-b2b8e74c-7b3b-4998-afb3-0fb0c0727e16')\"\n",
              "              title=\"Convert this dataframe to an interactive table.\"\n",
              "              style=\"display:none;\">\n",
              "        \n",
              "  <svg xmlns=\"http://www.w3.org/2000/svg\" height=\"24px\"viewBox=\"0 0 24 24\"\n",
              "       width=\"24px\">\n",
              "    <path d=\"M0 0h24v24H0V0z\" fill=\"none\"/>\n",
              "    <path d=\"M18.56 5.44l.94 2.06.94-2.06 2.06-.94-2.06-.94-.94-2.06-.94 2.06-2.06.94zm-11 1L8.5 8.5l.94-2.06 2.06-.94-2.06-.94L8.5 2.5l-.94 2.06-2.06.94zm10 10l.94 2.06.94-2.06 2.06-.94-2.06-.94-.94-2.06-.94 2.06-2.06.94z\"/><path d=\"M17.41 7.96l-1.37-1.37c-.4-.4-.92-.59-1.43-.59-.52 0-1.04.2-1.43.59L10.3 9.45l-7.72 7.72c-.78.78-.78 2.05 0 2.83L4 21.41c.39.39.9.59 1.41.59.51 0 1.02-.2 1.41-.59l7.78-7.78 2.81-2.81c.8-.78.8-2.07 0-2.86zM5.41 20L4 18.59l7.72-7.72 1.47 1.35L5.41 20z\"/>\n",
              "  </svg>\n",
              "      </button>\n",
              "      \n",
              "  <style>\n",
              "    .colab-df-container {\n",
              "      display:flex;\n",
              "      flex-wrap:wrap;\n",
              "      gap: 12px;\n",
              "    }\n",
              "\n",
              "    .colab-df-convert {\n",
              "      background-color: #E8F0FE;\n",
              "      border: none;\n",
              "      border-radius: 50%;\n",
              "      cursor: pointer;\n",
              "      display: none;\n",
              "      fill: #1967D2;\n",
              "      height: 32px;\n",
              "      padding: 0 0 0 0;\n",
              "      width: 32px;\n",
              "    }\n",
              "\n",
              "    .colab-df-convert:hover {\n",
              "      background-color: #E2EBFA;\n",
              "      box-shadow: 0px 1px 2px rgba(60, 64, 67, 0.3), 0px 1px 3px 1px rgba(60, 64, 67, 0.15);\n",
              "      fill: #174EA6;\n",
              "    }\n",
              "\n",
              "    [theme=dark] .colab-df-convert {\n",
              "      background-color: #3B4455;\n",
              "      fill: #D2E3FC;\n",
              "    }\n",
              "\n",
              "    [theme=dark] .colab-df-convert:hover {\n",
              "      background-color: #434B5C;\n",
              "      box-shadow: 0px 1px 3px 1px rgba(0, 0, 0, 0.15);\n",
              "      filter: drop-shadow(0px 1px 2px rgba(0, 0, 0, 0.3));\n",
              "      fill: #FFFFFF;\n",
              "    }\n",
              "  </style>\n",
              "\n",
              "      <script>\n",
              "        const buttonEl =\n",
              "          document.querySelector('#df-b2b8e74c-7b3b-4998-afb3-0fb0c0727e16 button.colab-df-convert');\n",
              "        buttonEl.style.display =\n",
              "          google.colab.kernel.accessAllowed ? 'block' : 'none';\n",
              "\n",
              "        async function convertToInteractive(key) {\n",
              "          const element = document.querySelector('#df-b2b8e74c-7b3b-4998-afb3-0fb0c0727e16');\n",
              "          const dataTable =\n",
              "            await google.colab.kernel.invokeFunction('convertToInteractive',\n",
              "                                                     [key], {});\n",
              "          if (!dataTable) return;\n",
              "\n",
              "          const docLinkHtml = 'Like what you see? Visit the ' +\n",
              "            '<a target=\"_blank\" href=https://colab.research.google.com/notebooks/data_table.ipynb>data table notebook</a>'\n",
              "            + ' to learn more about interactive tables.';\n",
              "          element.innerHTML = '';\n",
              "          dataTable['output_type'] = 'display_data';\n",
              "          await google.colab.output.renderOutput(dataTable, element);\n",
              "          const docLink = document.createElement('div');\n",
              "          docLink.innerHTML = docLinkHtml;\n",
              "          element.appendChild(docLink);\n",
              "        }\n",
              "      </script>\n",
              "    </div>\n",
              "  </div>\n",
              "  "
            ],
            "text/plain": [
              "                                        Product name  ...   discount\n",
              "0  boAt Rockerz 550 Bluetooth Wireless Over Ear H...  ...  62.012402\n",
              "1  boAt Rockerz 450 Pro Bluetooth Wireless On Ear...  ...  54.912281\n",
              "2  boAt Rockerz 450 Bluetooth Wireless On Ear Hea...  ...  64.937343\n",
              "3  boAt Bassheads 900 Wired On Ear Headphones wit...  ...  71.927711\n",
              "4  boAt Rockerz 370 Bluetooth Wireless On Ear Hea...  ...   60.02401\n",
              "\n",
              "[5 rows x 6 columns]"
            ]
          },
          "metadata": {},
          "execution_count": 60
        }
      ]
    }
  ]
}